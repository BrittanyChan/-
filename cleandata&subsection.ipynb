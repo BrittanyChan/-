{
 "cells": [
  {
   "cell_type": "code",
   "execution_count": 106,
   "metadata": {},
   "outputs": [
    {
     "name": "stderr",
     "output_type": "stream",
     "text": [
      "D:\\ProgramData\\Anaconda3\\lib\\site-packages\\ipykernel_launcher.py:7: SettingWithCopyWarning: \n",
      "A value is trying to be set on a copy of a slice from a DataFrame.\n",
      "Try using .loc[row_indexer,col_indexer] = value instead\n",
      "\n",
      "See the caveats in the documentation: http://pandas.pydata.org/pandas-docs/stable/indexing.html#indexing-view-versus-copy\n",
      "  import sys\n"
     ]
    }
   ],
   "source": [
    "import pandas as pd\n",
    "\n",
    "df = pd.read_csv(r'146987data.csv',encoding='gbk')\n",
    "\n",
    "df1 = df[['门店编号','兑券日期','POS机号','流水号','销售额']]\n",
    "\n",
    "df1['门店编号-兑券日期-POS机号-流水号'] =df1['门店编号'].astype(str) + '_'+ df1['兑券日期'].astype(str)+ '_' + df1['POS机号'].astype(str) + '_' + df1['流水号'].astype(str)"
   ]
  },
  {
   "cell_type": "code",
   "execution_count": 107,
   "metadata": {},
   "outputs": [
    {
     "data": {
      "text/html": [
       "<div>\n",
       "<style>\n",
       "    .dataframe thead tr:only-child th {\n",
       "        text-align: right;\n",
       "    }\n",
       "\n",
       "    .dataframe thead th {\n",
       "        text-align: left;\n",
       "    }\n",
       "\n",
       "    .dataframe tbody tr th {\n",
       "        vertical-align: top;\n",
       "    }\n",
       "</style>\n",
       "<table border=\"1\" class=\"dataframe\">\n",
       "  <thead>\n",
       "    <tr style=\"text-align: right;\">\n",
       "      <th></th>\n",
       "      <th>门店编号</th>\n",
       "      <th>兑券日期</th>\n",
       "      <th>POS机号</th>\n",
       "      <th>流水号</th>\n",
       "      <th>销售额</th>\n",
       "      <th>门店编号-兑券日期-POS机号-流水号</th>\n",
       "    </tr>\n",
       "  </thead>\n",
       "  <tbody>\n",
       "    <tr>\n",
       "      <th>0</th>\n",
       "      <td>2629</td>\n",
       "      <td>20180613</td>\n",
       "      <td>27</td>\n",
       "      <td>976141690</td>\n",
       "      <td>21.44</td>\n",
       "      <td>2629_20180613_27_976141690</td>\n",
       "    </tr>\n",
       "    <tr>\n",
       "      <th>1</th>\n",
       "      <td>2629</td>\n",
       "      <td>20180613</td>\n",
       "      <td>27</td>\n",
       "      <td>976141690</td>\n",
       "      <td>16.03</td>\n",
       "      <td>2629_20180613_27_976141690</td>\n",
       "    </tr>\n",
       "    <tr>\n",
       "      <th>2</th>\n",
       "      <td>2629</td>\n",
       "      <td>20180613</td>\n",
       "      <td>27</td>\n",
       "      <td>976141690</td>\n",
       "      <td>15.00</td>\n",
       "      <td>2629_20180613_27_976141690</td>\n",
       "    </tr>\n",
       "    <tr>\n",
       "      <th>3</th>\n",
       "      <td>2629</td>\n",
       "      <td>20180613</td>\n",
       "      <td>27</td>\n",
       "      <td>976141690</td>\n",
       "      <td>12.60</td>\n",
       "      <td>2629_20180613_27_976141690</td>\n",
       "    </tr>\n",
       "    <tr>\n",
       "      <th>4</th>\n",
       "      <td>2629</td>\n",
       "      <td>20180613</td>\n",
       "      <td>27</td>\n",
       "      <td>976141690</td>\n",
       "      <td>23.70</td>\n",
       "      <td>2629_20180613_27_976141690</td>\n",
       "    </tr>\n",
       "  </tbody>\n",
       "</table>\n",
       "</div>"
      ],
      "text/plain": [
       "   门店编号      兑券日期  POS机号        流水号    销售额         门店编号-兑券日期-POS机号-流水号\n",
       "0  2629  20180613     27  976141690  21.44  2629_20180613_27_976141690\n",
       "1  2629  20180613     27  976141690  16.03  2629_20180613_27_976141690\n",
       "2  2629  20180613     27  976141690  15.00  2629_20180613_27_976141690\n",
       "3  2629  20180613     27  976141690  12.60  2629_20180613_27_976141690\n",
       "4  2629  20180613     27  976141690  23.70  2629_20180613_27_976141690"
      ]
     },
     "execution_count": 107,
     "metadata": {},
     "output_type": "execute_result"
    }
   ],
   "source": [
    "df1.head()"
   ]
  },
  {
   "cell_type": "code",
   "execution_count": 108,
   "metadata": {},
   "outputs": [
    {
     "name": "stderr",
     "output_type": "stream",
     "text": [
      "D:\\ProgramData\\Anaconda3\\lib\\site-packages\\ipykernel_launcher.py:1: SettingWithCopyWarning: \n",
      "A value is trying to be set on a copy of a slice from a DataFrame\n",
      "\n",
      "See the caveats in the documentation: http://pandas.pydata.org/pandas-docs/stable/indexing.html#indexing-view-versus-copy\n",
      "  \"\"\"Entry point for launching an IPython kernel.\n"
     ]
    }
   ],
   "source": [
    "df1.drop(['门店编号','兑券日期','POS机号','流水号'], axis=1, inplace=True)"
   ]
  },
  {
   "cell_type": "code",
   "execution_count": 109,
   "metadata": {},
   "outputs": [
    {
     "data": {
      "text/html": [
       "<div>\n",
       "<style>\n",
       "    .dataframe thead tr:only-child th {\n",
       "        text-align: right;\n",
       "    }\n",
       "\n",
       "    .dataframe thead th {\n",
       "        text-align: left;\n",
       "    }\n",
       "\n",
       "    .dataframe tbody tr th {\n",
       "        vertical-align: top;\n",
       "    }\n",
       "</style>\n",
       "<table border=\"1\" class=\"dataframe\">\n",
       "  <thead>\n",
       "    <tr style=\"text-align: right;\">\n",
       "      <th></th>\n",
       "      <th>销售额</th>\n",
       "      <th>门店编号-兑券日期-POS机号-流水号</th>\n",
       "    </tr>\n",
       "  </thead>\n",
       "  <tbody>\n",
       "    <tr>\n",
       "      <th>0</th>\n",
       "      <td>21.44</td>\n",
       "      <td>2629_20180613_27_976141690</td>\n",
       "    </tr>\n",
       "    <tr>\n",
       "      <th>1</th>\n",
       "      <td>16.03</td>\n",
       "      <td>2629_20180613_27_976141690</td>\n",
       "    </tr>\n",
       "    <tr>\n",
       "      <th>2</th>\n",
       "      <td>15.00</td>\n",
       "      <td>2629_20180613_27_976141690</td>\n",
       "    </tr>\n",
       "    <tr>\n",
       "      <th>3</th>\n",
       "      <td>12.60</td>\n",
       "      <td>2629_20180613_27_976141690</td>\n",
       "    </tr>\n",
       "    <tr>\n",
       "      <th>4</th>\n",
       "      <td>23.70</td>\n",
       "      <td>2629_20180613_27_976141690</td>\n",
       "    </tr>\n",
       "  </tbody>\n",
       "</table>\n",
       "</div>"
      ],
      "text/plain": [
       "     销售额         门店编号-兑券日期-POS机号-流水号\n",
       "0  21.44  2629_20180613_27_976141690\n",
       "1  16.03  2629_20180613_27_976141690\n",
       "2  15.00  2629_20180613_27_976141690\n",
       "3  12.60  2629_20180613_27_976141690\n",
       "4  23.70  2629_20180613_27_976141690"
      ]
     },
     "execution_count": 109,
     "metadata": {},
     "output_type": "execute_result"
    }
   ],
   "source": [
    "df1.head()"
   ]
  },
  {
   "cell_type": "code",
   "execution_count": 113,
   "metadata": {},
   "outputs": [],
   "source": [
    "df2 = df1.groupby(['门店编号-兑券日期-POS机号-流水号'])[['销售额']].sum()"
   ]
  },
  {
   "cell_type": "code",
   "execution_count": 114,
   "metadata": {},
   "outputs": [
    {
     "data": {
      "text/html": [
       "<div>\n",
       "<style>\n",
       "    .dataframe thead tr:only-child th {\n",
       "        text-align: right;\n",
       "    }\n",
       "\n",
       "    .dataframe thead th {\n",
       "        text-align: left;\n",
       "    }\n",
       "\n",
       "    .dataframe tbody tr th {\n",
       "        vertical-align: top;\n",
       "    }\n",
       "</style>\n",
       "<table border=\"1\" class=\"dataframe\">\n",
       "  <thead>\n",
       "    <tr style=\"text-align: right;\">\n",
       "      <th></th>\n",
       "      <th>销售额</th>\n",
       "    </tr>\n",
       "    <tr>\n",
       "      <th>门店编号-兑券日期-POS机号-流水号</th>\n",
       "      <th></th>\n",
       "    </tr>\n",
       "  </thead>\n",
       "  <tbody>\n",
       "    <tr>\n",
       "      <th>2629_20180613_27_976141690</th>\n",
       "      <td>269.31</td>\n",
       "    </tr>\n",
       "    <tr>\n",
       "      <th>2629_20180614_28_82082184</th>\n",
       "      <td>72.65</td>\n",
       "    </tr>\n",
       "    <tr>\n",
       "      <th>2630_20180613_11_862179073</th>\n",
       "      <td>124.02</td>\n",
       "    </tr>\n",
       "    <tr>\n",
       "      <th>2630_20180613_13_965299215</th>\n",
       "      <td>278.81</td>\n",
       "    </tr>\n",
       "    <tr>\n",
       "      <th>2630_20180613_17_236316829</th>\n",
       "      <td>417.69</td>\n",
       "    </tr>\n",
       "  </tbody>\n",
       "</table>\n",
       "</div>"
      ],
      "text/plain": [
       "                               销售额\n",
       "门店编号-兑券日期-POS机号-流水号               \n",
       "2629_20180613_27_976141690  269.31\n",
       "2629_20180614_28_82082184    72.65\n",
       "2630_20180613_11_862179073  124.02\n",
       "2630_20180613_13_965299215  278.81\n",
       "2630_20180613_17_236316829  417.69"
      ]
     },
     "execution_count": 114,
     "metadata": {},
     "output_type": "execute_result"
    }
   ],
   "source": [
    "df2.head()"
   ]
  },
  {
   "cell_type": "code",
   "execution_count": null,
   "metadata": {
    "collapsed": true
   },
   "outputs": [],
   "source": []
  },
  {
   "cell_type": "code",
   "execution_count": 117,
   "metadata": {
    "collapsed": true
   },
   "outputs": [],
   "source": [
    "subsection = []\n",
    "for i in range(int(round(max(df2['销售额'])/20)-3)):\n",
    "    temp = len(df2[((68+i*20)<=df2['销售额']) & (df2['销售额']<(68+(i+1)*20))])    \n",
    "    subsection.append(temp)"
   ]
  },
  {
   "cell_type": "code",
   "execution_count": 118,
   "metadata": {
    "collapsed": true
   },
   "outputs": [],
   "source": [
    "salesTitles = []\n",
    "for i in range(int(round(max(df2['销售额'])/20)-3)):\n",
    "    temp = str(68+i*20)+ '<= 销售额< ' + str(68+(i+1)*20)    \n",
    "    salesTitles.append(temp)"
   ]
  },
  {
   "cell_type": "code",
   "execution_count": 119,
   "metadata": {
    "collapsed": true
   },
   "outputs": [],
   "source": [
    "df_sales = pd.DataFrame()  \n",
    "df_sales['销售额'] = salesTitles\n",
    "df_sales['数量'] = subsection"
   ]
  },
  {
   "cell_type": "code",
   "execution_count": 120,
   "metadata": {},
   "outputs": [
    {
     "data": {
      "text/html": [
       "<div>\n",
       "<style>\n",
       "    .dataframe thead tr:only-child th {\n",
       "        text-align: right;\n",
       "    }\n",
       "\n",
       "    .dataframe thead th {\n",
       "        text-align: left;\n",
       "    }\n",
       "\n",
       "    .dataframe tbody tr th {\n",
       "        vertical-align: top;\n",
       "    }\n",
       "</style>\n",
       "<table border=\"1\" class=\"dataframe\">\n",
       "  <thead>\n",
       "    <tr style=\"text-align: right;\">\n",
       "      <th></th>\n",
       "      <th>销售额</th>\n",
       "      <th>数量</th>\n",
       "    </tr>\n",
       "  </thead>\n",
       "  <tbody>\n",
       "    <tr>\n",
       "      <th>0</th>\n",
       "      <td>68&lt;= 销售额&lt; 88</td>\n",
       "      <td>115</td>\n",
       "    </tr>\n",
       "    <tr>\n",
       "      <th>1</th>\n",
       "      <td>88&lt;= 销售额&lt; 108</td>\n",
       "      <td>35</td>\n",
       "    </tr>\n",
       "    <tr>\n",
       "      <th>2</th>\n",
       "      <td>108&lt;= 销售额&lt; 128</td>\n",
       "      <td>26</td>\n",
       "    </tr>\n",
       "    <tr>\n",
       "      <th>3</th>\n",
       "      <td>128&lt;= 销售额&lt; 148</td>\n",
       "      <td>23</td>\n",
       "    </tr>\n",
       "    <tr>\n",
       "      <th>4</th>\n",
       "      <td>148&lt;= 销售额&lt; 168</td>\n",
       "      <td>14</td>\n",
       "    </tr>\n",
       "  </tbody>\n",
       "</table>\n",
       "</div>"
      ],
      "text/plain": [
       "              销售额   数量\n",
       "0    68<= 销售额< 88  115\n",
       "1   88<= 销售额< 108   35\n",
       "2  108<= 销售额< 128   26\n",
       "3  128<= 销售额< 148   23\n",
       "4  148<= 销售额< 168   14"
      ]
     },
     "execution_count": 120,
     "metadata": {},
     "output_type": "execute_result"
    }
   ],
   "source": [
    "df_sales.head()"
   ]
  },
  {
   "cell_type": "code",
   "execution_count": null,
   "metadata": {
    "collapsed": true
   },
   "outputs": [],
   "source": []
  },
  {
   "cell_type": "code",
   "execution_count": 121,
   "metadata": {
    "collapsed": true
   },
   "outputs": [],
   "source": [
    "#OUTPUT \n",
    "\n",
    "excelfilename = \"20180622AnalysisData68_16.xlsx\"\n",
    "writer = pd.ExcelWriter(excelfilename) \n",
    "df2.to_excel(writer, 'Coupon_Sales')\n",
    "df_sales.to_excel(writer, 'Subsection')\n",
    "\n",
    "writer.save()"
   ]
  },
  {
   "cell_type": "code",
   "execution_count": null,
   "metadata": {
    "collapsed": true
   },
   "outputs": [],
   "source": []
  }
 ],
 "metadata": {
  "kernelspec": {
   "display_name": "Python 3",
   "language": "python",
   "name": "python3"
  },
  "language_info": {
   "codemirror_mode": {
    "name": "ipython",
    "version": 3
   },
   "file_extension": ".py",
   "mimetype": "text/x-python",
   "name": "python",
   "nbconvert_exporter": "python",
   "pygments_lexer": "ipython3",
   "version": "3.6.3"
  }
 },
 "nbformat": 4,
 "nbformat_minor": 2
}
